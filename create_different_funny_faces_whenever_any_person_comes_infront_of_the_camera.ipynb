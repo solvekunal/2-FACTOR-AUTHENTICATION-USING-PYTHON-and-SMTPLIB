{
  "nbformat": 4,
  "nbformat_minor": 0,
  "metadata": {
    "colab": {
      "provenance": [],
      "authorship_tag": "ABX9TyP2rUCgVhZfj809HcqZF3p5",
      "include_colab_link": true
    },
    "kernelspec": {
      "name": "python3",
      "display_name": "Python 3"
    },
    "language_info": {
      "name": "python"
    }
  },
  "cells": [
    {
      "cell_type": "markdown",
      "metadata": {
        "id": "view-in-github",
        "colab_type": "text"
      },
      "source": [
        "<a href=\"https://colab.research.google.com/github/solvekunal/2-FACTOR-AUTHENTICATION-USING-PYTHON-and-SMTPLIB/blob/main/create_different_funny_faces_whenever_any_person_comes_infront_of_the_camera.ipynb\" target=\"_parent\"><img src=\"https://colab.research.google.com/assets/colab-badge.svg\" alt=\"Open In Colab\"/></a>"
      ]
    },
    {
      "cell_type": "code",
      "execution_count": 1,
      "metadata": {
        "id": "wfyfyYoOV8_w"
      },
      "outputs": [],
      "source": [
        "import cv2\n",
        "import numpy as np\n",
        "from PIL import Image, ImageDraw, ImageFont\n",
        "\n",
        "# Load pre-trained face detection model\n",
        "face_cascade = cv2.CascadeClassifier(cv2.data.haarcascades + 'haarcascade_frontalface_default.xml')"
      ]
    },
    {
      "cell_type": "code",
      "source": [
        "def add_funny_face(frame, faces):\n",
        "    for (x, y, w, h) in faces:\n",
        "        # Draw a funny face (here, just a big smiley face)\n",
        "        center = (x + w // 2, y + h // 2)\n",
        "        radius = min(w, h) // 2\n",
        "        cv2.circle(frame, center, radius, (0, 255, 255), -1)  # Yellow face\n",
        "        cv2.circle(frame, (center[0] - radius // 2, center[1] - radius // 2), radius // 8, (0, 0, 0), -1)  # Left eye\n",
        "        cv2.circle(frame, (center[0] + radius // 2, center[1] - radius // 2), radius // 8, (0, 0, 0), -1)  # Right eye\n",
        "        cv2.ellipse(frame, center, (radius // 2, radius // 3), 0, 0, 180, (0, 0, 0), 2)  # Smiling mouth\n",
        "\n",
        "    return frame\n",
        "\n",
        "def main():\n",
        "    # Open the camera\n",
        "    cap = cv2.VideoCapture(0)\n",
        "\n",
        "    while True:\n",
        "        # Capture frame-by-frame\n",
        "        ret, frame = cap.read()\n",
        "        if not ret:\n",
        "            break\n",
        "\n",
        "        # Convert frame to grayscale for face detection\n",
        "        gray = cv2.cvtColor(frame, cv2.COLOR_BGR2GRAY)\n",
        "        faces = face_cascade.detectMultiScale(gray, scaleFactor=1.1, minNeighbors=5, minSize=(30, 30))\n",
        "\n",
        "        # Add funny face to detected faces\n",
        "        frame = add_funny_face(frame, faces)\n",
        "\n",
        "        # Display the resulting frame\n",
        "        cv2.imshow('Funny Face Camera', frame)\n",
        "\n",
        "        # Break the loop when 'q' is pressed\n",
        "        if cv2.waitKey(1) & 0xFF == ord('q'):\n",
        "            break\n",
        "\n",
        "    # When everything is done, release the capture and close windows\n",
        "    cap.release()\n",
        "    cv2.destroyAllWindows()\n",
        "\n",
        "\n",
        "\n",
        "    if __name__ == \"__main__\":\n",
        "        main()"
      ],
      "metadata": {
        "id": "n2DIltVEWBhV"
      },
      "execution_count": 5,
      "outputs": []
    },
    {
      "cell_type": "code",
      "source": [],
      "metadata": {
        "id": "LRHTAmzEWMMY"
      },
      "execution_count": 3,
      "outputs": []
    },
    {
      "cell_type": "code",
      "source": [],
      "metadata": {
        "id": "0sD8l4WXWNfm"
      },
      "execution_count": null,
      "outputs": []
    }
  ]
}